{
  "nbformat": 4,
  "nbformat_minor": 0,
  "metadata": {
    "colab": {
      "name": "EjemplosDeClase.ipynb",
      "provenance": [],
      "collapsed_sections": [],
      "authorship_tag": "ABX9TyO+2HSvIoWJ9CY3sV23RONz",
      "include_colab_link": true
    },
    "kernelspec": {
      "name": "python3",
      "display_name": "Python 3"
    },
    "language_info": {
      "name": "python"
    }
  },
  "cells": [
    {
      "cell_type": "markdown",
      "metadata": {
        "id": "view-in-github",
        "colab_type": "text"
      },
      "source": [
        "<a href=\"https://colab.research.google.com/github/jian555/web/blob/master/EjemplosDeClase.ipynb\" target=\"_parent\"><img src=\"https://colab.research.google.com/assets/colab-badge.svg\" alt=\"Open In Colab\"/></a>"
      ]
    },
    {
      "cell_type": "code",
      "execution_count": 13,
      "metadata": {
        "colab": {
          "base_uri": "https://localhost:8080/"
        },
        "id": "RoZSY0y1NiV0",
        "outputId": "60fb898a-3b8c-42a2-9070-dc9c2c98c9c2"
      },
      "outputs": [
        {
          "output_type": "stream",
          "name": "stdout",
          "text": [
            "1.3461538461538463\n",
            "1.0\n"
          ]
        }
      ],
      "source": [
        "a= 13\n",
        "b= divmod(a,2)\n",
        "b\n",
        "type(b)\n",
        "\n",
        "c= 17.5/a\n",
        "print(c)\n",
        "\n",
        "c= 17.5//a\n",
        "print(c)"
      ]
    },
    {
      "cell_type": "code",
      "source": [
        "#Clase Miercoles 27 abril\n",
        "import math\n",
        "\n",
        "def areaCirculo(r):\n",
        "  area= math.pi*r**2\n",
        "  return area\n",
        "\n",
        "print(areaCirculo(3))  "
      ],
      "metadata": {
        "colab": {
          "base_uri": "https://localhost:8080/"
        },
        "id": "v3Miv-4OR912",
        "outputId": "e651173a-f0c4-4000-97fe-296cddcceb14"
      },
      "execution_count": 9,
      "outputs": [
        {
          "output_type": "stream",
          "name": "stdout",
          "text": [
            "28.274333882308138\n"
          ]
        }
      ]
    },
    {
      "cell_type": "code",
      "source": [
        "def areaRectangulo (lado1, lado2):\n",
        "  area= lado1*lado2\n",
        "  return area\n",
        "\n",
        "largo= float(input(\"Ingrese el largo del rectangulo: \"))\n",
        "ancho= float(input(\"Ingrese el ancho del rectangulo: \"))\n",
        "\n",
        "area= areaRectangulo(largo, ancho)\n",
        "print(\"El area del rectangulo es \"+ str(area))\n"
      ],
      "metadata": {
        "colab": {
          "base_uri": "https://localhost:8080/"
        },
        "id": "kRN4R0smX9Xz",
        "outputId": "ac23e857-5c0b-44ca-e5b7-b82d78fdd01a"
      },
      "execution_count": 16,
      "outputs": [
        {
          "output_type": "stream",
          "name": "stdout",
          "text": [
            "Ingrese el largo del rectangulo: 4\n",
            "Ingrese el ancho del rectangulo: 5\n",
            "El area del rectangulo es 20.0\n"
          ]
        }
      ]
    },
    {
      "cell_type": "code",
      "source": [
        "def imprimirNumero(x):\n",
        "  if x>=0:\n",
        "    print(\"+\", end=\"\")# quiero que no salte de linea\n",
        "  return x\n",
        "\n",
        "a= 3.14\n",
        "print(a)\n",
        "imprimirNumero(a)"
      ],
      "metadata": {
        "colab": {
          "base_uri": "https://localhost:8080/"
        },
        "id": "0vaqy_BXi5Tt",
        "outputId": "9ac3e797-065a-49d5-be83-f92c2fd33b0e"
      },
      "execution_count": 19,
      "outputs": [
        {
          "output_type": "stream",
          "name": "stdout",
          "text": [
            "3.14\n",
            "+"
          ]
        },
        {
          "output_type": "execute_result",
          "data": {
            "text/plain": [
              "3.14"
            ]
          },
          "metadata": {},
          "execution_count": 19
        }
      ]
    }
  ]
}